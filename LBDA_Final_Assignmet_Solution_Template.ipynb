{
 "cells": [
  {
   "cell_type": "markdown",
   "metadata": {},
   "source": [
    "## Download and unzip data\n",
    "## Same dataset used in module 4 so if you already have this dataset you can use it (Jump following two cells). "
   ]
  },
  {
   "cell_type": "code",
   "execution_count": null,
   "metadata": {},
   "outputs": [],
   "source": [
    "!wget http://130.186.13.80:5050/examon_backup_230719_24hours_ipmi_skylake.zip"
   ]
  },
  {
   "cell_type": "code",
   "execution_count": null,
   "metadata": {},
   "outputs": [],
   "source": [
    "!unzip -q examon_backup_230719_24hours_ipmi_skylake.zip"
   ]
  },
  {
   "cell_type": "markdown",
   "metadata": {},
   "source": [
    "## Read from parquet to pandas filter for JUST node r129c01s01\n",
    "\n",
    "The all data is big so please use the method that you already know about it from Module 4 or just use filter of parquet read like following:  \n",
    "\n",
    "`data= pd.read_parquet('examon_backup_230719_24hours_ipmi_skylake/examon_backup_230719_24hours_ipmi_skylake.parq',filters=[('node','=','r129c01s01')]) `"
   ]
  },
  {
   "cell_type": "code",
   "execution_count": 9,
   "metadata": {},
   "outputs": [
    {
     "data": {
      "text/html": [
       "<div>\n",
       "<style scoped>\n",
       "    .dataframe tbody tr th:only-of-type {\n",
       "        vertical-align: middle;\n",
       "    }\n",
       "\n",
       "    .dataframe tbody tr th {\n",
       "        vertical-align: top;\n",
       "    }\n",
       "\n",
       "    .dataframe thead th {\n",
       "        text-align: right;\n",
       "    }\n",
       "</style>\n",
       "<table border=\"1\" class=\"dataframe\">\n",
       "  <thead>\n",
       "    <tr style=\"text-align: right;\">\n",
       "      <th></th>\n",
       "      <th>chnl</th>\n",
       "      <th>cluster</th>\n",
       "      <th>description</th>\n",
       "      <th>gcluster</th>\n",
       "      <th>group</th>\n",
       "      <th>health</th>\n",
       "      <th>host_group</th>\n",
       "      <th>name</th>\n",
       "      <th>org</th>\n",
       "      <th>part</th>\n",
       "      <th>plugin</th>\n",
       "      <th>state</th>\n",
       "      <th>state_type</th>\n",
       "      <th>timestamp</th>\n",
       "      <th>type</th>\n",
       "      <th>units</th>\n",
       "      <th>value</th>\n",
       "      <th>__index_level_0__</th>\n",
       "      <th>node</th>\n",
       "    </tr>\n",
       "  </thead>\n",
       "  <tbody>\n",
       "    <tr>\n",
       "      <th>0</th>\n",
       "      <td>data</td>\n",
       "      <td>marconi</td>\n",
       "      <td></td>\n",
       "      <td></td>\n",
       "      <td></td>\n",
       "      <td>ok</td>\n",
       "      <td></td>\n",
       "      <td>Ambient_Temp</td>\n",
       "      <td>cineca</td>\n",
       "      <td>skylake</td>\n",
       "      <td>confluent_pub</td>\n",
       "      <td></td>\n",
       "      <td></td>\n",
       "      <td>1563826320035</td>\n",
       "      <td>Temperature</td>\n",
       "      <td>C</td>\n",
       "      <td>32</td>\n",
       "      <td>26177</td>\n",
       "      <td>r129c01s01</td>\n",
       "    </tr>\n",
       "    <tr>\n",
       "      <th>1</th>\n",
       "      <td>data</td>\n",
       "      <td>marconi</td>\n",
       "      <td></td>\n",
       "      <td></td>\n",
       "      <td></td>\n",
       "      <td>ok</td>\n",
       "      <td></td>\n",
       "      <td>Ambient_Temp</td>\n",
       "      <td>cineca</td>\n",
       "      <td>skylake</td>\n",
       "      <td>confluent_pub</td>\n",
       "      <td></td>\n",
       "      <td></td>\n",
       "      <td>1563826380006</td>\n",
       "      <td>Temperature</td>\n",
       "      <td>C</td>\n",
       "      <td>32</td>\n",
       "      <td>26178</td>\n",
       "      <td>r129c01s01</td>\n",
       "    </tr>\n",
       "    <tr>\n",
       "      <th>2</th>\n",
       "      <td>data</td>\n",
       "      <td>marconi</td>\n",
       "      <td></td>\n",
       "      <td></td>\n",
       "      <td></td>\n",
       "      <td>ok</td>\n",
       "      <td></td>\n",
       "      <td>Ambient_Temp</td>\n",
       "      <td>cineca</td>\n",
       "      <td>skylake</td>\n",
       "      <td>confluent_pub</td>\n",
       "      <td></td>\n",
       "      <td></td>\n",
       "      <td>1563826440034</td>\n",
       "      <td>Temperature</td>\n",
       "      <td>C</td>\n",
       "      <td>32</td>\n",
       "      <td>26179</td>\n",
       "      <td>r129c01s01</td>\n",
       "    </tr>\n",
       "    <tr>\n",
       "      <th>3</th>\n",
       "      <td>data</td>\n",
       "      <td>marconi</td>\n",
       "      <td></td>\n",
       "      <td></td>\n",
       "      <td></td>\n",
       "      <td>ok</td>\n",
       "      <td></td>\n",
       "      <td>Ambient_Temp</td>\n",
       "      <td>cineca</td>\n",
       "      <td>skylake</td>\n",
       "      <td>confluent_pub</td>\n",
       "      <td></td>\n",
       "      <td></td>\n",
       "      <td>1563826500034</td>\n",
       "      <td>Temperature</td>\n",
       "      <td>C</td>\n",
       "      <td>32</td>\n",
       "      <td>26180</td>\n",
       "      <td>r129c01s01</td>\n",
       "    </tr>\n",
       "    <tr>\n",
       "      <th>4</th>\n",
       "      <td>data</td>\n",
       "      <td>marconi</td>\n",
       "      <td></td>\n",
       "      <td></td>\n",
       "      <td></td>\n",
       "      <td>ok</td>\n",
       "      <td></td>\n",
       "      <td>Ambient_Temp</td>\n",
       "      <td>cineca</td>\n",
       "      <td>skylake</td>\n",
       "      <td>confluent_pub</td>\n",
       "      <td></td>\n",
       "      <td></td>\n",
       "      <td>1563826560032</td>\n",
       "      <td>Temperature</td>\n",
       "      <td>C</td>\n",
       "      <td>32</td>\n",
       "      <td>26181</td>\n",
       "      <td>r129c01s01</td>\n",
       "    </tr>\n",
       "    <tr>\n",
       "      <th>...</th>\n",
       "      <td>...</td>\n",
       "      <td>...</td>\n",
       "      <td>...</td>\n",
       "      <td>...</td>\n",
       "      <td>...</td>\n",
       "      <td>...</td>\n",
       "      <td>...</td>\n",
       "      <td>...</td>\n",
       "      <td>...</td>\n",
       "      <td>...</td>\n",
       "      <td>...</td>\n",
       "      <td>...</td>\n",
       "      <td>...</td>\n",
       "      <td>...</td>\n",
       "      <td>...</td>\n",
       "      <td>...</td>\n",
       "      <td>...</td>\n",
       "      <td>...</td>\n",
       "      <td>...</td>\n",
       "    </tr>\n",
       "    <tr>\n",
       "      <th>86554</th>\n",
       "      <td>data</td>\n",
       "      <td>marconi</td>\n",
       "      <td></td>\n",
       "      <td></td>\n",
       "      <td></td>\n",
       "      <td>ok</td>\n",
       "      <td></td>\n",
       "      <td>System_Air_Flow</td>\n",
       "      <td>cineca</td>\n",
       "      <td>skylake</td>\n",
       "      <td>confluent_pub</td>\n",
       "      <td></td>\n",
       "      <td></td>\n",
       "      <td>1563887220035</td>\n",
       "      <td>Other</td>\n",
       "      <td>CFM</td>\n",
       "      <td>26</td>\n",
       "      <td>167889</td>\n",
       "      <td>r129c01s01</td>\n",
       "    </tr>\n",
       "    <tr>\n",
       "      <th>86555</th>\n",
       "      <td>data</td>\n",
       "      <td>marconi</td>\n",
       "      <td></td>\n",
       "      <td></td>\n",
       "      <td></td>\n",
       "      <td>ok</td>\n",
       "      <td></td>\n",
       "      <td>System_Air_Flow</td>\n",
       "      <td>cineca</td>\n",
       "      <td>skylake</td>\n",
       "      <td>confluent_pub</td>\n",
       "      <td></td>\n",
       "      <td></td>\n",
       "      <td>1563887280041</td>\n",
       "      <td>Other</td>\n",
       "      <td>CFM</td>\n",
       "      <td>28</td>\n",
       "      <td>167890</td>\n",
       "      <td>r129c01s01</td>\n",
       "    </tr>\n",
       "    <tr>\n",
       "      <th>86556</th>\n",
       "      <td>data</td>\n",
       "      <td>marconi</td>\n",
       "      <td></td>\n",
       "      <td></td>\n",
       "      <td></td>\n",
       "      <td>ok</td>\n",
       "      <td></td>\n",
       "      <td>System_Air_Flow</td>\n",
       "      <td>cineca</td>\n",
       "      <td>skylake</td>\n",
       "      <td>confluent_pub</td>\n",
       "      <td></td>\n",
       "      <td></td>\n",
       "      <td>1563887340025</td>\n",
       "      <td>Other</td>\n",
       "      <td>CFM</td>\n",
       "      <td>25</td>\n",
       "      <td>167891</td>\n",
       "      <td>r129c01s01</td>\n",
       "    </tr>\n",
       "    <tr>\n",
       "      <th>86557</th>\n",
       "      <td>data</td>\n",
       "      <td>marconi</td>\n",
       "      <td></td>\n",
       "      <td></td>\n",
       "      <td></td>\n",
       "      <td>ok</td>\n",
       "      <td></td>\n",
       "      <td>System_Air_Flow</td>\n",
       "      <td>cineca</td>\n",
       "      <td>skylake</td>\n",
       "      <td>confluent_pub</td>\n",
       "      <td></td>\n",
       "      <td></td>\n",
       "      <td>1563887400039</td>\n",
       "      <td>Other</td>\n",
       "      <td>CFM</td>\n",
       "      <td>29</td>\n",
       "      <td>167892</td>\n",
       "      <td>r129c01s01</td>\n",
       "    </tr>\n",
       "    <tr>\n",
       "      <th>86558</th>\n",
       "      <td>data</td>\n",
       "      <td>marconi</td>\n",
       "      <td></td>\n",
       "      <td></td>\n",
       "      <td></td>\n",
       "      <td>ok</td>\n",
       "      <td></td>\n",
       "      <td>System_Air_Flow</td>\n",
       "      <td>cineca</td>\n",
       "      <td>skylake</td>\n",
       "      <td>confluent_pub</td>\n",
       "      <td></td>\n",
       "      <td></td>\n",
       "      <td>1563887460032</td>\n",
       "      <td>Other</td>\n",
       "      <td>CFM</td>\n",
       "      <td>15</td>\n",
       "      <td>167893</td>\n",
       "      <td>r129c01s01</td>\n",
       "    </tr>\n",
       "  </tbody>\n",
       "</table>\n",
       "<p>86559 rows × 19 columns</p>\n",
       "</div>"
      ],
      "text/plain": [
       "       chnl  cluster description gcluster group health host_group  \\\n",
       "0      data  marconi                                ok              \n",
       "1      data  marconi                                ok              \n",
       "2      data  marconi                                ok              \n",
       "3      data  marconi                                ok              \n",
       "4      data  marconi                                ok              \n",
       "...     ...      ...         ...      ...   ...    ...        ...   \n",
       "86554  data  marconi                                ok              \n",
       "86555  data  marconi                                ok              \n",
       "86556  data  marconi                                ok              \n",
       "86557  data  marconi                                ok              \n",
       "86558  data  marconi                                ok              \n",
       "\n",
       "                  name     org     part         plugin state state_type  \\\n",
       "0         Ambient_Temp  cineca  skylake  confluent_pub                    \n",
       "1         Ambient_Temp  cineca  skylake  confluent_pub                    \n",
       "2         Ambient_Temp  cineca  skylake  confluent_pub                    \n",
       "3         Ambient_Temp  cineca  skylake  confluent_pub                    \n",
       "4         Ambient_Temp  cineca  skylake  confluent_pub                    \n",
       "...                ...     ...      ...            ...   ...        ...   \n",
       "86554  System_Air_Flow  cineca  skylake  confluent_pub                    \n",
       "86555  System_Air_Flow  cineca  skylake  confluent_pub                    \n",
       "86556  System_Air_Flow  cineca  skylake  confluent_pub                    \n",
       "86557  System_Air_Flow  cineca  skylake  confluent_pub                    \n",
       "86558  System_Air_Flow  cineca  skylake  confluent_pub                    \n",
       "\n",
       "           timestamp         type units value  __index_level_0__        node  \n",
       "0      1563826320035  Temperature     C    32              26177  r129c01s01  \n",
       "1      1563826380006  Temperature     C    32              26178  r129c01s01  \n",
       "2      1563826440034  Temperature     C    32              26179  r129c01s01  \n",
       "3      1563826500034  Temperature     C    32              26180  r129c01s01  \n",
       "4      1563826560032  Temperature     C    32              26181  r129c01s01  \n",
       "...              ...          ...   ...   ...                ...         ...  \n",
       "86554  1563887220035        Other   CFM    26             167889  r129c01s01  \n",
       "86555  1563887280041        Other   CFM    28             167890  r129c01s01  \n",
       "86556  1563887340025        Other   CFM    25             167891  r129c01s01  \n",
       "86557  1563887400039        Other   CFM    29             167892  r129c01s01  \n",
       "86558  1563887460032        Other   CFM    15             167893  r129c01s01  \n",
       "\n",
       "[86559 rows x 19 columns]"
      ]
     },
     "execution_count": 9,
     "metadata": {},
     "output_type": "execute_result"
    }
   ],
   "source": [
    "%reset -f \n",
    "import pandas as pd \n",
    "# data= pd.read_parquet(' ... your path ... /examon_backup_230719_24hours_ipmi_skylake.parq',\n",
    "#                        filters=[('node','=','r129c01s01')])\n",
    "data "
   ]
  },
  {
   "cell_type": "markdown",
   "metadata": {},
   "source": [
    "## Filter out the Ambient_temp "
   ]
  },
  {
   "cell_type": "code",
   "execution_count": 6,
   "metadata": {},
   "outputs": [],
   "source": [
    "# plaese filter just Ambient_temp form name column"
   ]
  },
  {
   "cell_type": "markdown",
   "metadata": {},
   "source": [
    "## Covert int timestamp to datatime index"
   ]
  },
  {
   "cell_type": "code",
   "execution_count": null,
   "metadata": {},
   "outputs": [],
   "source": [
    "# In pandas dataframe, convert the integer timestamp (column timestamp) to DateTime\n",
    "# and then set the timestamp column as the index. \n",
    "# (help: unit='ms', you can find all the scripts in the time-series module of lectures)  \n",
    "df['timestamp'] = ..."
   ]
  },
  {
   "cell_type": "code",
   "execution_count": 7,
   "metadata": {},
   "outputs": [],
   "source": [
    "# Please be sure that the index is sorted. (help: df.sort_index(inplace=True) "
   ]
  },
  {
   "cell_type": "code",
   "execution_count": null,
   "metadata": {},
   "outputs": [],
   "source": []
  },
  {
   "cell_type": "markdown",
   "metadata": {},
   "source": [
    "## Set timestamp column as index"
   ]
  },
  {
   "cell_type": "code",
   "execution_count": null,
   "metadata": {},
   "outputs": [],
   "source": [
    "# df = df.set_index(...)\n",
    "df"
   ]
  },
  {
   "cell_type": "markdown",
   "metadata": {},
   "source": [
    "## Convert data type of value column to float "
   ]
  },
  {
   "cell_type": "code",
   "execution_count": null,
   "metadata": {},
   "outputs": [],
   "source": [
    "# help: If you have following error : \n",
    "# \"DataError: No numeric types to aggregate\" \n",
    "# please google this error or just use  \n",
    "# df[\"value\"] = pd.to_numeric(df[\"value\"]) \n",
    "# for resampling you can find methods and example scripts in the time-series module of lectures. \n",
    "\n",
    "\n",
    "# df[\"value\"] = pd.to_numeric(df[\"value\"])"
   ]
  },
  {
   "cell_type": "markdown",
   "metadata": {},
   "source": [
    "## Sort by datetime index"
   ]
  },
  {
   "cell_type": "code",
   "execution_count": null,
   "metadata": {},
   "outputs": [],
   "source": [
    "# df.sort_index(inplace=True)"
   ]
  },
  {
   "cell_type": "code",
   "execution_count": null,
   "metadata": {},
   "outputs": [],
   "source": []
  },
  {
   "cell_type": "markdown",
   "metadata": {},
   "source": [
    "## Resampling"
   ]
  },
  {
   "cell_type": "code",
   "execution_count": null,
   "metadata": {},
   "outputs": [],
   "source": [
    "# The original data was collected by the sampling rate of 1 minute. \n",
    "# (by looking at the index/timestamp, you can find this). \n",
    "# Please resample the dataset with 60+last number of student number minutes \n",
    "# (frequency 60 minutes + last number of student number minutes)\n",
    "# and use the mean as an aggregation method.\n",
    "\n",
    "\n",
    "# df_resampling = df['value'].resample('60T').mean()\n",
    "# df_resampling"
   ]
  },
  {
   "cell_type": "code",
   "execution_count": null,
   "metadata": {},
   "outputs": [],
   "source": [
    "# Please use the matplotlib library to generate the plot of the resampled data.  \n",
    "\n",
    "\n",
    "# from matplotlib import pyplot as plt\n",
    "# fig, ax = plt.subplots(1,1,figsize=(20,7))\n",
    "# ax.plot(df_resampling, 'r')\n",
    "# fig.show()"
   ]
  },
  {
   "cell_type": "markdown",
   "metadata": {},
   "source": [
    "## ## Simple Moving Average (SMA)"
   ]
  },
  {
   "cell_type": "code",
   "execution_count": null,
   "metadata": {},
   "outputs": [],
   "source": [
    "# Please cancel the impacts of random or short-term fluctuations on the time-series data by calculating the \n",
    "# moving average over a 1-hours+ last number of student number minutes  time-window. \n",
    "# (help: use pandas dataframe and if you did not remember the methods, check the time-series module of lectures) "
   ]
  },
  {
   "cell_type": "code",
   "execution_count": null,
   "metadata": {},
   "outputs": [],
   "source": [
    "df_ma = pd.DataFrame(df[\"value\"])\n",
    "df_ma"
   ]
  },
  {
   "cell_type": "code",
   "execution_count": null,
   "metadata": {},
   "outputs": [],
   "source": [
    "# df_ma['SMA'] = df_ma[\"value\"].rolling(window=60).mean()\n",
    "# df_ma"
   ]
  },
  {
   "cell_type": "code",
   "execution_count": null,
   "metadata": {},
   "outputs": [],
   "source": [
    "# Please show the original data with red color and the moving average results with black color in the same plot. \n",
    "# Which one is smoother? Please play with the window parameter and see the change.  \n",
    "\n",
    "\n",
    "# from matplotlib import pyplot as plt\n",
    "# fig, ax = plt.subplots(1,1,figsize=(20,7))\n",
    "# ax.plot(df_ma['value'], 'r-.')\n",
    "# ax.plot(df_ma['SMA'], 'k')\n",
    "# fig.show()"
   ]
  },
  {
   "cell_type": "code",
   "execution_count": null,
   "metadata": {},
   "outputs": [],
   "source": []
  }
 ],
 "metadata": {
  "kernelspec": {
   "display_name": "Python 3",
   "language": "python",
   "name": "python3"
  },
  "language_info": {
   "codemirror_mode": {
    "name": "ipython",
    "version": 3
   },
   "file_extension": ".py",
   "mimetype": "text/x-python",
   "name": "python",
   "nbconvert_exporter": "python",
   "pygments_lexer": "ipython3",
   "version": "3.8.3"
  }
 },
 "nbformat": 4,
 "nbformat_minor": 4
}
