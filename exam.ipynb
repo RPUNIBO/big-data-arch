{
 "cells": [
  {
   "cell_type": "code",
   "execution_count": 1,
   "id": "c284531f",
   "metadata": {},
   "outputs": [],
   "source": [
    "import pandas as pd"
   ]
  },
  {
   "cell_type": "code",
   "execution_count": 2,
   "id": "bc8a61a1",
   "metadata": {},
   "outputs": [],
   "source": [
    "covid = pd.read_csv('COVID.csv')"
   ]
  },
  {
   "cell_type": "code",
   "execution_count": 3,
   "id": "a1da6ec9",
   "metadata": {},
   "outputs": [
    {
     "data": {
      "text/plain": [
       "(327686, 15)"
      ]
     },
     "execution_count": 3,
     "metadata": {},
     "output_type": "execute_result"
    }
   ],
   "source": [
    "covid.shape"
   ]
  },
  {
   "cell_type": "code",
   "execution_count": 10,
   "id": "1e3a33ec",
   "metadata": {},
   "outputs": [
    {
     "data": {
      "text/html": [
       "<div>\n",
       "<style scoped>\n",
       "    .dataframe tbody tr th:only-of-type {\n",
       "        vertical-align: middle;\n",
       "    }\n",
       "\n",
       "    .dataframe tbody tr th {\n",
       "        vertical-align: top;\n",
       "    }\n",
       "\n",
       "    .dataframe thead th {\n",
       "        text-align: right;\n",
       "    }\n",
       "</style>\n",
       "<table border=\"1\" class=\"dataframe\">\n",
       "  <thead>\n",
       "    <tr style=\"text-align: right;\">\n",
       "      <th></th>\n",
       "      <th>Date</th>\n",
       "      <th>iso3</th>\n",
       "      <th>CountryName</th>\n",
       "      <th>Region</th>\n",
       "      <th>lat</th>\n",
       "      <th>lon</th>\n",
       "      <th>CumulativePositive</th>\n",
       "      <th>CumulativeDeceased</th>\n",
       "      <th>CumulativeRecovered</th>\n",
       "      <th>CurrentlyPositive</th>\n",
       "      <th>Hospitalized</th>\n",
       "      <th>IntensiveCare</th>\n",
       "      <th>EUcountry</th>\n",
       "      <th>EUCPMcountry</th>\n",
       "      <th>NUTS</th>\n",
       "    </tr>\n",
       "  </thead>\n",
       "  <tbody>\n",
       "    <tr>\n",
       "      <th>0</th>\n",
       "      <td>2020-01-03</td>\n",
       "      <td>AIA</td>\n",
       "      <td>Anguilla</td>\n",
       "      <td>NaN</td>\n",
       "      <td>18.225120</td>\n",
       "      <td>-63.072130</td>\n",
       "      <td>0.0</td>\n",
       "      <td>0.0</td>\n",
       "      <td>NaN</td>\n",
       "      <td>0</td>\n",
       "      <td>NaN</td>\n",
       "      <td>NaN</td>\n",
       "      <td>False</td>\n",
       "      <td>False</td>\n",
       "      <td>AI</td>\n",
       "    </tr>\n",
       "    <tr>\n",
       "      <th>1</th>\n",
       "      <td>2020-01-03</td>\n",
       "      <td>DMA</td>\n",
       "      <td>Dominica</td>\n",
       "      <td>NaN</td>\n",
       "      <td>15.416749</td>\n",
       "      <td>-61.364130</td>\n",
       "      <td>0.0</td>\n",
       "      <td>0.0</td>\n",
       "      <td>NaN</td>\n",
       "      <td>0</td>\n",
       "      <td>NaN</td>\n",
       "      <td>NaN</td>\n",
       "      <td>False</td>\n",
       "      <td>False</td>\n",
       "      <td>DM</td>\n",
       "    </tr>\n",
       "    <tr>\n",
       "      <th>2</th>\n",
       "      <td>2020-01-03</td>\n",
       "      <td>DOM</td>\n",
       "      <td>Dominican Republic</td>\n",
       "      <td>NaN</td>\n",
       "      <td>18.736509</td>\n",
       "      <td>-70.161744</td>\n",
       "      <td>0.0</td>\n",
       "      <td>0.0</td>\n",
       "      <td>NaN</td>\n",
       "      <td>0</td>\n",
       "      <td>NaN</td>\n",
       "      <td>NaN</td>\n",
       "      <td>False</td>\n",
       "      <td>False</td>\n",
       "      <td>DO</td>\n",
       "    </tr>\n",
       "    <tr>\n",
       "      <th>3</th>\n",
       "      <td>2020-01-03</td>\n",
       "      <td>FLK</td>\n",
       "      <td>Falkland Islands (Malvinas)</td>\n",
       "      <td>NaN</td>\n",
       "      <td>-51.800581</td>\n",
       "      <td>-59.528839</td>\n",
       "      <td>0.0</td>\n",
       "      <td>0.0</td>\n",
       "      <td>NaN</td>\n",
       "      <td>0</td>\n",
       "      <td>NaN</td>\n",
       "      <td>NaN</td>\n",
       "      <td>False</td>\n",
       "      <td>False</td>\n",
       "      <td>FK</td>\n",
       "    </tr>\n",
       "    <tr>\n",
       "      <th>4</th>\n",
       "      <td>2020-01-03</td>\n",
       "      <td>IDN</td>\n",
       "      <td>Indonesia</td>\n",
       "      <td>NaN</td>\n",
       "      <td>-2.518722</td>\n",
       "      <td>118.015568</td>\n",
       "      <td>0.0</td>\n",
       "      <td>0.0</td>\n",
       "      <td>NaN</td>\n",
       "      <td>0</td>\n",
       "      <td>NaN</td>\n",
       "      <td>NaN</td>\n",
       "      <td>False</td>\n",
       "      <td>False</td>\n",
       "      <td>ID</td>\n",
       "    </tr>\n",
       "  </tbody>\n",
       "</table>\n",
       "</div>"
      ],
      "text/plain": [
       "         Date iso3                  CountryName Region        lat         lon  \\\n",
       "0  2020-01-03  AIA                     Anguilla    NaN  18.225120  -63.072130   \n",
       "1  2020-01-03  DMA                     Dominica    NaN  15.416749  -61.364130   \n",
       "2  2020-01-03  DOM           Dominican Republic    NaN  18.736509  -70.161744   \n",
       "3  2020-01-03  FLK  Falkland Islands (Malvinas)    NaN -51.800581  -59.528839   \n",
       "4  2020-01-03  IDN                    Indonesia    NaN  -2.518722  118.015568   \n",
       "\n",
       "   CumulativePositive  CumulativeDeceased  CumulativeRecovered  \\\n",
       "0                 0.0                 0.0                  NaN   \n",
       "1                 0.0                 0.0                  NaN   \n",
       "2                 0.0                 0.0                  NaN   \n",
       "3                 0.0                 0.0                  NaN   \n",
       "4                 0.0                 0.0                  NaN   \n",
       "\n",
       "   CurrentlyPositive  Hospitalized  IntensiveCare  EUcountry  EUCPMcountry  \\\n",
       "0                  0           NaN            NaN      False         False   \n",
       "1                  0           NaN            NaN      False         False   \n",
       "2                  0           NaN            NaN      False         False   \n",
       "3                  0           NaN            NaN      False         False   \n",
       "4                  0           NaN            NaN      False         False   \n",
       "\n",
       "  NUTS  \n",
       "0   AI  \n",
       "1   DM  \n",
       "2   DO  \n",
       "3   FK  \n",
       "4   ID  "
      ]
     },
     "execution_count": 10,
     "metadata": {},
     "output_type": "execute_result"
    }
   ],
   "source": [
    "covid.head(5)"
   ]
  },
  {
   "cell_type": "markdown",
   "id": "d4110273",
   "metadata": {},
   "source": [
    "# Python and Pandas, data exploration"
   ]
  },
  {
   "cell_type": "code",
   "execution_count": 4,
   "id": "8d13e898",
   "metadata": {},
   "outputs": [],
   "source": [
    "# Select your home country from the covid dataset as a new df"
   ]
  },
  {
   "cell_type": "code",
   "execution_count": 5,
   "id": "e6165428",
   "metadata": {},
   "outputs": [],
   "source": [
    "# What was the worst day in your country? The worst increase of cases per day?"
   ]
  },
  {
   "cell_type": "code",
   "execution_count": 6,
   "id": "8f5ab581",
   "metadata": {},
   "outputs": [],
   "source": [
    "# For your own country, what is the difference between summer and winter in terms of hospitalized patients?"
   ]
  },
  {
   "cell_type": "code",
   "execution_count": 7,
   "id": "129dbd33",
   "metadata": {},
   "outputs": [],
   "source": [
    "# For every country calculate avreage number of curently positive patients\n",
    "# What is the country wiht most avreage active curently positive cases?\n",
    "# Solve with Pandas and measure the execution time"
   ]
  },
  {
   "cell_type": "markdown",
   "id": "bca90cb1",
   "metadata": {},
   "source": [
    "# PySpark"
   ]
  },
  {
   "cell_type": "code",
   "execution_count": 8,
   "id": "2b91e624",
   "metadata": {},
   "outputs": [],
   "source": [
    "#solve this part in PySpark on Google colab or your own machine (if you have PySpark set up)"
   ]
  },
  {
   "cell_type": "code",
   "execution_count": 9,
   "id": "d09db810",
   "metadata": {},
   "outputs": [],
   "source": [
    "# For every country calculate avreage number of curently positive patients\n",
    "# What is the country wiht most avreage active curently positive cases?\n",
    "# Solve by Map-Reduce and measure the execution time"
   ]
  },
  {
   "cell_type": "code",
   "execution_count": 18,
   "id": "348fab24",
   "metadata": {},
   "outputs": [],
   "source": [
    "# Create a monte carlo integration of any function F: R - R^n. Paralelize the computation by PySpark. "
   ]
  },
  {
   "cell_type": "markdown",
   "id": "d44e7cb7",
   "metadata": {},
   "source": [
    "# Dask"
   ]
  },
  {
   "cell_type": "code",
   "execution_count": 15,
   "id": "a6417e7c",
   "metadata": {},
   "outputs": [],
   "source": [
    "# Solve this part in Dask on your own machine"
   ]
  },
  {
   "cell_type": "code",
   "execution_count": 16,
   "id": "ca151ebd",
   "metadata": {},
   "outputs": [],
   "source": [
    "# For every country calculate avreage number of curently positive patients\n",
    "# What is the country wiht most avreage active curently positive cases?\n",
    "# Solve by Dask and measure the execution time"
   ]
  },
  {
   "cell_type": "code",
   "execution_count": 19,
   "id": "b1bc5024",
   "metadata": {},
   "outputs": [],
   "source": [
    "# Create a monte carlo integration of any function F: R - R^n. Paralelize the computation by Dask. "
   ]
  }
 ],
 "metadata": {
  "kernelspec": {
   "display_name": "dask",
   "language": "python",
   "name": "dask"
  },
  "language_info": {
   "codemirror_mode": {
    "name": "ipython",
    "version": 3
   },
   "file_extension": ".py",
   "mimetype": "text/x-python",
   "name": "python",
   "nbconvert_exporter": "python",
   "pygments_lexer": "ipython3",
   "version": "3.9.7"
  }
 },
 "nbformat": 4,
 "nbformat_minor": 5
}
